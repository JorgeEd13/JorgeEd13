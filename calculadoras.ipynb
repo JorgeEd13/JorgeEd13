{
  "nbformat": 4,
  "nbformat_minor": 0,
  "metadata": {
    "colab": {
      "provenance": [],
      "authorship_tag": "ABX9TyNQWNxT3hoG7hAf6TFZt4qt",
      "include_colab_link": true
    },
    "kernelspec": {
      "name": "python3",
      "display_name": "Python 3"
    },
    "language_info": {
      "name": "python"
    }
  },
  "cells": [
    {
      "cell_type": "markdown",
      "metadata": {
        "id": "view-in-github",
        "colab_type": "text"
      },
      "source": [
        "<a href=\"https://colab.research.google.com/github/JorgeEd13/JorgeEd13/blob/main/calculadoras.ipynb\" target=\"_parent\"><img src=\"https://colab.research.google.com/assets/colab-badge.svg\" alt=\"Open In Colab\"/></a>"
      ]
    },
    {
      "cell_type": "markdown",
      "source": [
        "#**Exercício Módulo 5 - Lógica de Programação com Python:**\n",
        "\n",
        " A calculadora abaixo recebe o input do usuário e os armazena em uma lista, para serem utilizados posteriormente para realização das operações desejadas, seguindo as instruções abaixo.\n",
        "\n",
        " Obs.: Como eu me deparei com alguns desafios para garantir um bom funcionamento da aplicação requisitada, eu acabei aprendendo alguns conceitos interessantes. Então além do projeto seguindo os critérios necessários na atividade, eu decidi apresentar uma opção bônus mais simples e direta caso o usuário prefira... por diversão."
      ],
      "metadata": {
        "id": "dtaXcpenz26P"
      }
    },
    {
      "cell_type": "markdown",
      "source": [
        "##**Calculadora em pilha:**\n",
        "###Modo uso:\n",
        "1. Insira um por um os valores que serão utilizados nos cálculos e pressione a tecla \"Enter\" a cada número;\n",
        "2. Quando estiver satisfeito, insira a operação matemática desejada, utilizando os sinais (sem as aspas):\n",
        "  * \"+\" para operação de soma;\n",
        "  * \"-\" para operação de subtração;\n",
        "  * \"*\" para operação de multiplicação;\n",
        "  * \"/\" para operação de divisão;\n",
        "3. Pressione a tecla \"Enter\" novamente para confirmar a operação desejada;\n",
        "4. A calculadora irá realizar a operação desejada com os dois números mais recentes da lista, retornando o resultado e removendo os números utilizados da lista.\n",
        "\n",
        "**Obs.:** Para encerrar a calculadora, basta pressionar a tecla \"Enter\" com o espaço para digitar os números completamente vazio."
      ],
      "metadata": {
        "id": "cMmTCLJicScI"
      }
    },
    {
      "cell_type": "code",
      "source": [
        "data = 0\n",
        "data_list = []\n",
        "while data != \"\":\n",
        "    data = input(\"Digite o que deseja, seguindo as instruções acima:\")\n",
        "    # A primeira condicional, para caso o usuário deseje simplesmente encerrar o código.\n",
        "    if data == \"\":\n",
        "        print(\"Obrigado, volte sempre!\")\n",
        "        break\n",
        "    elif data != \"+\" and data != \"-\" and data != \"*\" and data != \"/\":\n",
        "        # Uma validação para garantir que os valores apresentados sejam apenas números, os operadores matemáticos ou vazio.\n",
        "        try:\n",
        "            int(data)\n",
        "        except ValueError as error:\n",
        "            print(\"Input inválido!\")\n",
        "        else:\n",
        "            try:\n",
        "                float(data)\n",
        "            except ValueError as error:\n",
        "                print(\"Input inválido!\")\n",
        "            else:\n",
        "                # Caso o input \"passe\" pelas validações anteriores, ele tem seu valor armazenado na lista/pilha como float.\n",
        "                data_list.append(float(data))\n",
        "    else:\n",
        "        # Em caso do usuário tentar realizar uma operação sem ter números o bastante para tal.\n",
        "        if len(data_list) < 2:\n",
        "            print(\"Sua lista não tem valores suficientes ainda! Tente novamente\")\n",
        "        elif data == \"+\":\n",
        "            result = data_list[-2] + data_list[-1]\n",
        "            print(\"O resultado da soma entre:\", data_list[-2], \" e \", data_list[-1], \" foi: \", result)\n",
        "            data_list = data_list[0:-2]\n",
        "        elif data == \"-\":\n",
        "            result = data_list[-2] - data_list[-1]\n",
        "            print(\"O resultado da subtração entre:\", data_list[-2], \" e \", data_list[-1], \" foi: \", result)\n",
        "            data_list = data_list[0:-2]\n",
        "        elif data == \"*\":\n",
        "            result = data_list[-2] * data_list[-1]\n",
        "            print(\"O resultado da multiplicação entre:\", data_list[-2], \" e \", data_list[-1], \" foi: \", result)\n",
        "            data_list = data_list[0:-2]\n",
        "        elif data == \"/\":\n",
        "            # Uma validação para o caso da tentativa de uma divisão por 0.\n",
        "            try:\n",
        "                data_list[-2] / data_list[-1]\n",
        "            except ZeroDivisionError as error:\n",
        "                print(\"Impossível dividir por 0! Tente Novamente.\")\n",
        "            else:\n",
        "                result = data_list[-2] / data_list[-1]\n",
        "                print(\"O resultado da divisão entre:\", data_list[-2], \" e \", data_list[-1], \" foi: \", result)\n",
        "                data_list = data_list[0:-2]\n",
        "    print(\"Sua lista de números até agora é: \", data_list)"
      ],
      "metadata": {
        "id": "OBMc3BYFcScS"
      },
      "execution_count": null,
      "outputs": []
    },
    {
      "cell_type": "markdown",
      "source": [
        "##**Calculadora por expressão:**\n",
        "###Modo uso:\n",
        "1. No espaço fornecido, digite tanto os valores quando a operação matemática que deseja realizar;\n",
        "2. A expressão deve ser inserida no formato \"número\"\"operação\"\"número\". Ex.: 4-9;\n",
        "3. As operações matemáticas desejadas devem utilizar os símbolos a seguir (sem as aspas):\n",
        "  * \"+\" para operação de soma;\n",
        "  * \"-\" para operação de subtração;\n",
        "  * \"*\" para operação de multiplicação;\n",
        "  * \"/\" para operação de divisão;\n",
        "3. Pressione a tecla \"Enter\" para confirmar a expressão desejada;\n",
        "4. O resultado será exibido e a opção de realizar uma nova operação do zero logo em seguida.\n",
        "\n",
        "**Obs.:** Para encerrar a calculadora, basta pressionar a tecla \"Enter\" com o espaço para digitar os números completamente vazio.\n",
        "\n",
        "**Obs2.:** As expressões podem conter mais de uma operação por vez. Ex.: (5+6-8)/100."
      ],
      "metadata": {
        "id": "U8nkSi1NEz47"
      }
    },
    {
      "cell_type": "code",
      "source": [
        "data = input(\"Digite aqui sua expressão:\")\n",
        "if data == \"\":\n",
        "    print(\"Obrigado, volte sempre!\")\n",
        "else:\n",
        "    while data != \"\":\n",
        "        print(\"O resultado da expressão é:\", eval(data))\n",
        "        data = input(\"Gostaria de realizar mais alguma operação?\")\n",
        "        if data == \"\":\n",
        "            print(\"Obrigado, volte sempre!\")\n",
        "            break"
      ],
      "metadata": {
        "colab": {
          "base_uri": "https://localhost:8080/"
        },
        "id": "StLPB1G0d-8W",
        "outputId": "27365955-283e-4ccf-aab9-0bf032684f78"
      },
      "execution_count": null,
      "outputs": [
        {
          "output_type": "stream",
          "name": "stdout",
          "text": [
            "Digite aqui sua expressão:(5+6-8)/100\n",
            "O resultado da expressão é: 0.03\n",
            "Gostaria de realizar mais alguma operação?(5+6-8)/100\n",
            "O resultado da expressão é: 0.03\n",
            "Gostaria de realizar mais alguma operação?5+2\n",
            "O resultado da expressão é: 7\n",
            "Gostaria de realizar mais alguma operação?\n",
            "Obrigado, volte sempre!\n"
          ]
        }
      ]
    }
  ]
}